{
 "cells": [
  {
   "cell_type": "markdown",
   "id": "99ca8817-4d46-409e-864c-511d67e3d777",
   "metadata": {},
   "source": [
    "**a. Installation et importation des bibliothèques nécessaires**"
   ]
  },
  {
   "cell_type": "code",
   "execution_count": null,
   "id": "e4fce35a-dd48-449d-a58f-9238740e2f10",
   "metadata": {},
   "outputs": [],
   "source": [
    "pip install wordcloud textblob nltk "
   ]
  },
  {
   "cell_type": "code",
   "execution_count": null,
   "id": "077f89e9-2c02-469e-8bda-dd1471aabf4f",
   "metadata": {},
   "outputs": [],
   "source": [
    "import pandas as pd\n",
    "import matplotlib.pyplot as plt\n",
    "import seaborn as sns\n",
    "from wordcloud import WordCloud\n",
    "from textblob import TextBlob\n",
    "from nltk.corpus import stopwords\n",
    "from collections import Counter\n",
    "import nltk\n",
    "\n",
    "nltk.download('stopwords')"
   ]
  },
  {
   "cell_type": "markdown",
   "id": "efe48ba7-2d66-431e-80f2-fe539fde1f1d",
   "metadata": {},
   "source": [
    "**b. Chargement et préparation des données**"
   ]
  },
  {
   "cell_type": "code",
   "execution_count": null,
   "id": "03476402-0917-4916-816b-9e86af2d660f",
   "metadata": {},
   "outputs": [],
   "source": [
    "# Charger le dataset\n",
    "df = pd.read_csv('fashionnova_reviews.csv')\n",
    "\n",
    "# on affiche les infos sur les données \n",
    "print(df.info())\n",
    "\n",
    "# Nettoyer les données (dans un premier temps on va supprimer les valeurs manquantes (on peut aussi les rattraper))\n",
    "df = df.dropna(subset=['Review Text', 'Rating'])\n",
    "\n",
    "# vu que les dates ne sont pas au bon format on Convertit les colonnes de date en format datetime\n",
    "df['Review Date'] = pd.to_datetime(df['Review Date'])\n",
    "df['Date of Experience'] = pd.to_datetime(df['Date of Experience'])\n",
    "\n",
    "# enfin on extrait la note (nombre d'étoiles) à partir de la colonne Rating\n",
    "df['Stars'] = df['Rating'].str.extract(r'(\\d+)').astype(int)"
   ]
  },
  {
   "cell_type": "markdown",
   "id": "11f95e56-03a7-4896-9e9c-feef9450a496",
   "metadata": {},
   "source": [
    "**c. Analyse Exploratoire**"
   ]
  },
  {
   "cell_type": "code",
   "execution_count": null,
   "id": "a9e2d874-f025-4eb5-908d-cc4c1bac53d6",
   "metadata": {},
   "outputs": [],
   "source": [
    "# Distribution des notes\n",
    "plt.figure(figsize=(8,6))\n",
    "sns.countplot(x='Stars', data=df, palette='viridis')\n",
    "plt.title('Distribution des Notes')\n",
    "plt.show()\n",
    "\n",
    "# Distribution des notes par pays\n",
    "plt.figure(figsize=(10,8))\n",
    "sns.boxplot(x='Country', y='Stars', data=df)\n",
    "plt.title('Distribution des Notes par Pays')\n",
    "plt.xticks(rotation=90)\n",
    "plt.show()"
   ]
  },
  {
   "cell_type": "markdown",
   "id": "9fbce3e0-7e64-45d2-af9d-fd1834394bbd",
   "metadata": {},
   "source": [
    "**d. Analyse des sentiments**"
   ]
  },
  {
   "cell_type": "code",
   "execution_count": null,
   "id": "fe97e742-6c98-4fe8-b8fd-72a11df0ccc9",
   "metadata": {},
   "outputs": [],
   "source": [
    "# definissons une Fonction pour analyser les sentiments\n",
    "def get_sentiment(text):\n",
    "    analysis = TextBlob(text)\n",
    "    if analysis.sentiment.polarity > 0:\n",
    "        return 'Positive'\n",
    "    elif analysis.sentiment.polarity == 0:\n",
    "        return 'Neutral'\n",
    "    else:\n",
    "        return 'Negative'\n",
    "\n",
    "# Appliquons l'analyse des sentiments\n",
    "df['Sentiment'] = df['Review Text'].apply(get_sentiment)\n",
    "\n",
    "# Distribution des sentiments\n",
    "plt.figure(figsize=(8,6))\n",
    "sns.countplot(x='Sentiment', data=df, palette='coolwarm')\n",
    "plt.title('Distribution des Sentiments des Avis')\n",
    "plt.show()\n"
   ]
  },
  {
   "cell_type": "markdown",
   "id": "354edef4-61df-47cb-bc8b-bc4dfe19e984",
   "metadata": {},
   "source": [
    "**d. Analyse des mots-clés**"
   ]
  },
  {
   "cell_type": "code",
   "execution_count": null,
   "id": "3a109487-9d67-4317-960a-e2d558c9cc3d",
   "metadata": {},
   "outputs": [],
   "source": [
    "# Préparer le texte pour l'analyse des mots-clés pour distinguer les avis positifs des avis négatifs \n",
    "stop_words = set(stopwords.words('english'))\n",
    "df['Cleaned Text'] = df['Review Text'].str.lower().str.replace('[^\\w\\s]','')\n",
    "\n",
    "# Fonction pour extraire les mots-clés\n",
    "def extract_keywords(text):\n",
    "    words = text.split()\n",
    "    words = [word for word in words if word not in stop_words]\n",
    "    return words\n",
    "\n",
    "# Appliquer l'extraction des mots-clés\n",
    "df['Keywords'] = df['Cleaned Text'].apply(extract_keywords)\n",
    "\n",
    "# Générer un nuage de mots pour les avis positifs\n",
    "positive_text = ' '.join(df[df['Sentiment'] == 'Positive']['Cleaned Text'])\n",
    "wordcloud = WordCloud(width=800, height=400, background_color='white').generate(positive_text)\n",
    "plt.figure(figsize=(10, 8))\n",
    "plt.imshow(wordcloud, interpolation='bilinear')\n",
    "plt.axis('off')\n",
    "plt.title('Nuage de Mots pour les Avis Positifs')\n",
    "plt.show()\n",
    "\n",
    "# Nuage de mots pour les avis négatifs\n",
    "negative_text = ' '.join(df[df['Sentiment'] == 'Negative']['Cleaned Text'])\n",
    "wordcloud = WordCloud(width=800, height=400, background_color='black', colormap='Reds').generate(negative_text)\n",
    "plt.figure(figsize=(10, 8))\n",
    "plt.imshow(wordcloud, interpolation='bilinear')\n",
    "plt.axis('off')\n",
    "plt.title('Nuage de Mots pour les Avis Négatifs')\n",
    "plt.show()"
   ]
  },
  {
   "cell_type": "markdown",
   "id": "5f92863f-151f-4d13-b5e0-ef8c0c6b35eb",
   "metadata": {},
   "source": [
    "**f. Analyse temporelle**"
   ]
  },
  {
   "cell_type": "code",
   "execution_count": null,
   "id": "a22e9cd6-d65f-48b3-8c05-e83c37c5e8a5",
   "metadata": {},
   "outputs": [],
   "source": [
    "# Avis par mois\n",
    "df['Review Month'] = df['Review Date'].dt.to_period('M')\n",
    "\n",
    "plt.figure(figsize=(12, 6))\n",
    "sns.countplot(x='Review Month', data=df, order=df['Review Month'].value_counts().index, palette='coolwarm')\n",
    "plt.title('Nombre d\\'Avis par Mois')\n",
    "plt.xticks(rotation=90)\n",
    "plt.show()"
   ]
  },
  {
   "cell_type": "markdown",
   "id": "08db93d0-c6bf-47db-a5b9-e6c4a49d3c54",
   "metadata": {},
   "source": [
    "**e. Définition de l'Indice de Désirabilité**"
   ]
  },
  {
   "cell_type": "markdown",
   "id": "e1330c68-9db2-452d-8ad9-a0a8756aa4aa",
   "metadata": {},
   "source": [
    "**L'indice de désirabilité** pourrait être défini comme une combinaison pondérée des éléments suivants :\n",
    "\n",
    "- Note (étoiles) : Une évaluation directe du produit ou du service, sur une échelle de 1 à 5.\n",
    "- Sentiment : Une analyse du ton de l'avis (positif, négatif, neutre).\n",
    "- Longueur de l'avis : Une mesure du détail dans l'avis, car un avis plus long pourrait indiquer un engagement plus profond, qu'il soit positif ou négatif.\n",
    "- Présence de mots-clés positifs/négatifs : Utilisation fréquente de mots tels que \"amazing\", \"great\", \"love\", ou au contraire \"disappointed\", \"bad\"."
   ]
  },
  {
   "cell_type": "markdown",
   "id": "703172e4-8779-44a8-bf4e-c3614845ff6c",
   "metadata": {},
   "source": [
    "**Création de l'indice**"
   ]
  },
  {
   "cell_type": "code",
   "execution_count": null,
   "id": "3a3af1be-395d-4356-b48d-30a620221bb4",
   "metadata": {},
   "outputs": [],
   "source": [
    "# Normalisation de la note sur une échelle de 0 à 1\n",
    "df['Normalized Stars'] = df['Stars'] / 5\n",
    "\n",
    "# Conversion des sentiments en scores\n",
    "sentiment_mapping = {'Positive': 1, 'Neutral': 0.5, 'Negative': 0}\n",
    "df['Sentiment Score'] = df['Sentiment'].map(sentiment_mapping)\n",
    "\n",
    "# Longueur de l'avis\n",
    "df['Review Length'] = df['Review Text'].apply(lambda x: len(x.split()))\n",
    "# Normalisation de la longueur de l'avis sur une échelle de 0 à 1\n",
    "df['Normalized Review Length'] = df['Review Length'] / df['Review Length'].max()\n",
    "\n",
    "# Pondération et combinaison des scores pour créer l'indice de désirabilité\n",
    "# Vous pouvez ajuster les poids en fonction de l'importance que vous souhaitez accorder à chaque facteur\n",
    "df['Desirability Index'] = (0.5 * df['Normalized Stars'] + \n",
    "                            0.3 * df['Sentiment Score'] + \n",
    "                            0.2 * df['Normalized Review Length'])"
   ]
  },
  {
   "cell_type": "markdown",
   "id": "b38295aa-5ba4-4fdf-b021-875b82f1e1af",
   "metadata": {},
   "source": [
    "**Interprétation de l'indice**"
   ]
  },
  {
   "cell_type": "markdown",
   "id": "b81fd942-8ed1-49f9-93ec-27329ec49bf1",
   "metadata": {},
   "source": [
    "L'indice de désirabilité est compris entre 0 et 1 :\n",
    "\n",
    "- 0 : Indique une très faible désirabilité (évaluations faibles, sentiments négatifs, avis courts).\n",
    "- 1 : Indique une très haute désirabilité (évaluations élevées, sentiments positifs, avis détaillés)."
   ]
  },
  {
   "cell_type": "markdown",
   "id": "9097c9ae-cc3b-4c69-973b-5c7877e5b738",
   "metadata": {},
   "source": [
    "**Visualisation et analyse de l'indice**"
   ]
  },
  {
   "cell_type": "code",
   "execution_count": null,
   "id": "4d0d3c5a-95ad-4c97-8052-86c1f4a13c47",
   "metadata": {},
   "outputs": [],
   "source": [
    "# Distribution de l'indice de désirabilité\n",
    "plt.figure(figsize=(8,6))\n",
    "sns.histplot(df['Desirability Index'], bins=20, kde=True, color='blue')\n",
    "plt.title('Distribution de l\\'Indice de Désirabilité')\n",
    "plt.xlabel('Indice de Désirabilité')\n",
    "plt.ylabel('Nombre d\\'Avis')\n",
    "plt.show()\n",
    "\n",
    "# Indice de désirabilité moyen par pays\n",
    "plt.figure(figsize=(10,8))\n",
    "sns.barplot(x='Country', y='Desirability Index', data=df, estimator=lambda x: sum(x)/len(x), palette='viridis')\n",
    "plt.title('Indice de Désirabilité Moyen par Pays')\n",
    "plt.xticks(rotation=90)\n",
    "plt.show()"
   ]
  },
  {
   "cell_type": "code",
   "execution_count": null,
   "id": "09612fd7-ede6-402e-910a-ef073f893857",
   "metadata": {},
   "outputs": [],
   "source": []
  }
 ],
 "metadata": {
  "kernelspec": {
   "display_name": "Python 3 (ipykernel)",
   "language": "python",
   "name": "python3"
  },
  "language_info": {
   "codemirror_mode": {
    "name": "ipython",
    "version": 3
   },
   "file_extension": ".py",
   "mimetype": "text/x-python",
   "name": "python",
   "nbconvert_exporter": "python",
   "pygments_lexer": "ipython3",
   "version": "3.12.4"
  }
 },
 "nbformat": 4,
 "nbformat_minor": 5
}
